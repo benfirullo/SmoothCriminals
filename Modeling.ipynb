{
 "cells": [
  {
   "cell_type": "code",
   "execution_count": 75,
   "metadata": {},
   "outputs": [],
   "source": [
    "import numpy as np\n",
    "import pandas as pd\n",
    "import matplotlib.pyplot as plt\n",
    "from sklearn import linear_model\n",
    "from sklearn.linear_model import LinearRegression\n",
    "from sklearn.metrics import mean_squared_error, r2_score\n",
    "\n",
    "import warnings\n",
    "warnings.filterwarnings('ignore')"
   ]
  },
  {
   "cell_type": "markdown",
   "metadata": {},
   "source": [
    "## Preparing the data"
   ]
  },
  {
   "cell_type": "code",
   "execution_count": 76,
   "metadata": {},
   "outputs": [
    {
     "data": {
      "text/html": [
       "<div>\n",
       "<style scoped>\n",
       "    .dataframe tbody tr th:only-of-type {\n",
       "        vertical-align: middle;\n",
       "    }\n",
       "\n",
       "    .dataframe tbody tr th {\n",
       "        vertical-align: top;\n",
       "    }\n",
       "\n",
       "    .dataframe thead th {\n",
       "        text-align: right;\n",
       "    }\n",
       "</style>\n",
       "<table border=\"1\" class=\"dataframe\">\n",
       "  <thead>\n",
       "    <tr style=\"text-align: right;\">\n",
       "      <th></th>\n",
       "      <th>Unnamed: 0</th>\n",
       "      <th>Location_Desc</th>\n",
       "      <th>Police_Beat</th>\n",
       "      <th>Street_Type</th>\n",
       "      <th>RecordID</th>\n",
       "      <th>Date_Reported</th>\n",
       "      <th>Offense_Type</th>\n",
       "      <th>Block_Range</th>\n",
       "      <th>Street_Prefix</th>\n",
       "      <th>Street_Name</th>\n",
       "      <th>...</th>\n",
       "      <th>Y</th>\n",
       "      <th>GEOID10</th>\n",
       "      <th>GEOID00</th>\n",
       "      <th>Police_Division</th>\n",
       "      <th>CTA_ID</th>\n",
       "      <th>CTA_Name</th>\n",
       "      <th>Geocoded</th>\n",
       "      <th>Location_Code</th>\n",
       "      <th>Hour</th>\n",
       "      <th>zip_codes</th>\n",
       "    </tr>\n",
       "  </thead>\n",
       "  <tbody>\n",
       "    <tr>\n",
       "      <th>0</th>\n",
       "      <td>0</td>\n",
       "      <td>NaN</td>\n",
       "      <td>14D40</td>\n",
       "      <td>RD</td>\n",
       "      <td>1</td>\n",
       "      <td>NaN</td>\n",
       "      <td>Burglary</td>\n",
       "      <td>5600-5699</td>\n",
       "      <td>NaN</td>\n",
       "      <td>SELINSKY</td>\n",
       "      <td>...</td>\n",
       "      <td>29.637514</td>\n",
       "      <td>4.820133e+14</td>\n",
       "      <td>4.820133e+14</td>\n",
       "      <td>Southeast Division</td>\n",
       "      <td>K066</td>\n",
       "      <td>Minnetex</td>\n",
       "      <td>1</td>\n",
       "      <td>NaN</td>\n",
       "      <td>8</td>\n",
       "      <td>77048.0</td>\n",
       "    </tr>\n",
       "    <tr>\n",
       "      <th>1</th>\n",
       "      <td>1</td>\n",
       "      <td>NaN</td>\n",
       "      <td>7C20</td>\n",
       "      <td>NaN</td>\n",
       "      <td>2</td>\n",
       "      <td>NaN</td>\n",
       "      <td>Theft</td>\n",
       "      <td>3900-3999</td>\n",
       "      <td>NaN</td>\n",
       "      <td>CAVALCADE</td>\n",
       "      <td>...</td>\n",
       "      <td>29.800081</td>\n",
       "      <td>4.820121e+14</td>\n",
       "      <td>4.820121e+14</td>\n",
       "      <td>Northeast Division</td>\n",
       "      <td>K004</td>\n",
       "      <td>Kashmere Gardens</td>\n",
       "      <td>1</td>\n",
       "      <td>NaN</td>\n",
       "      <td>11</td>\n",
       "      <td>77026.0</td>\n",
       "    </tr>\n",
       "    <tr>\n",
       "      <th>2</th>\n",
       "      <td>2</td>\n",
       "      <td>NaN</td>\n",
       "      <td>13D40</td>\n",
       "      <td>PKWY</td>\n",
       "      <td>3</td>\n",
       "      <td>NaN</td>\n",
       "      <td>Theft</td>\n",
       "      <td>8500-8599</td>\n",
       "      <td>S</td>\n",
       "      <td>SAM HOUSTON</td>\n",
       "      <td>...</td>\n",
       "      <td>29.625560</td>\n",
       "      <td>4.820133e+14</td>\n",
       "      <td>4.820133e+14</td>\n",
       "      <td>Southwest Division</td>\n",
       "      <td>K070</td>\n",
       "      <td>Five Corners</td>\n",
       "      <td>1</td>\n",
       "      <td>NaN</td>\n",
       "      <td>15</td>\n",
       "      <td>77085.0</td>\n",
       "    </tr>\n",
       "    <tr>\n",
       "      <th>3</th>\n",
       "      <td>3</td>\n",
       "      <td>NaN</td>\n",
       "      <td>18F40</td>\n",
       "      <td>RD</td>\n",
       "      <td>4</td>\n",
       "      <td>NaN</td>\n",
       "      <td>Robbery</td>\n",
       "      <td>2700-2799</td>\n",
       "      <td>NaN</td>\n",
       "      <td>DUNVALE</td>\n",
       "      <td>...</td>\n",
       "      <td>29.736820</td>\n",
       "      <td>4.820143e+14</td>\n",
       "      <td>4.820143e+14</td>\n",
       "      <td>Midwest Division</td>\n",
       "      <td>K080</td>\n",
       "      <td>Mid-West</td>\n",
       "      <td>1</td>\n",
       "      <td>NaN</td>\n",
       "      <td>14</td>\n",
       "      <td>77063.0</td>\n",
       "    </tr>\n",
       "    <tr>\n",
       "      <th>4</th>\n",
       "      <td>4</td>\n",
       "      <td>RESTAURANT/CAFETERIA</td>\n",
       "      <td>24C60</td>\n",
       "      <td>PKWY</td>\n",
       "      <td>5</td>\n",
       "      <td>09/08/1914</td>\n",
       "      <td>Burglary</td>\n",
       "      <td>12700-12799</td>\n",
       "      <td>W</td>\n",
       "      <td>LAKE HOUSTON</td>\n",
       "      <td>...</td>\n",
       "      <td>29.924672</td>\n",
       "      <td>4.820125e+14</td>\n",
       "      <td>4.820125e+14</td>\n",
       "      <td>Kingwood Division</td>\n",
       "      <td>K106</td>\n",
       "      <td>Lake Houston</td>\n",
       "      <td>1</td>\n",
       "      <td>210</td>\n",
       "      <td>7</td>\n",
       "      <td>77044.0</td>\n",
       "    </tr>\n",
       "  </tbody>\n",
       "</table>\n",
       "<p>5 rows × 25 columns</p>\n",
       "</div>"
      ],
      "text/plain": [
       "   Unnamed: 0         Location_Desc Police_Beat Street_Type  RecordID  \\\n",
       "0           0                   NaN       14D40          RD         1   \n",
       "1           1                   NaN        7C20         NaN         2   \n",
       "2           2                   NaN       13D40        PKWY         3   \n",
       "3           3                   NaN       18F40          RD         4   \n",
       "4           4  RESTAURANT/CAFETERIA       24C60        PKWY         5   \n",
       "\n",
       "  Date_Reported Offense_Type  Block_Range Street_Prefix   Street_Name  ...  \\\n",
       "0           NaN     Burglary    5600-5699           NaN      SELINSKY  ...   \n",
       "1           NaN        Theft    3900-3999           NaN     CAVALCADE  ...   \n",
       "2           NaN        Theft    8500-8599             S   SAM HOUSTON  ...   \n",
       "3           NaN      Robbery    2700-2799           NaN       DUNVALE  ...   \n",
       "4    09/08/1914     Burglary  12700-12799             W  LAKE HOUSTON  ...   \n",
       "\n",
       "           Y       GEOID10       GEOID00     Police_Division  CTA_ID  \\\n",
       "0  29.637514  4.820133e+14  4.820133e+14  Southeast Division    K066   \n",
       "1  29.800081  4.820121e+14  4.820121e+14  Northeast Division    K004   \n",
       "2  29.625560  4.820133e+14  4.820133e+14  Southwest Division    K070   \n",
       "3  29.736820  4.820143e+14  4.820143e+14    Midwest Division    K080   \n",
       "4  29.924672  4.820125e+14  4.820125e+14   Kingwood Division    K106   \n",
       "\n",
       "           CTA_Name  Geocoded  Location_Code Hour zip_codes  \n",
       "0          Minnetex         1            NaN    8   77048.0  \n",
       "1  Kashmere Gardens         1            NaN   11   77026.0  \n",
       "2      Five Corners         1            NaN   15   77085.0  \n",
       "3          Mid-West         1            NaN   14   77063.0  \n",
       "4      Lake Houston         1            210    7   77044.0  \n",
       "\n",
       "[5 rows x 25 columns]"
      ]
     },
     "execution_count": 76,
     "metadata": {},
     "output_type": "execute_result"
    }
   ],
   "source": [
    "df = pd.read_csv(\"withzip1.csv\")\n",
    "df.head()"
   ]
  },
  {
   "cell_type": "code",
   "execution_count": 77,
   "metadata": {},
   "outputs": [
    {
     "data": {
      "text/plain": [
       "(1094203, 25)"
      ]
     },
     "execution_count": 77,
     "metadata": {},
     "output_type": "execute_result"
    }
   ],
   "source": [
    "raw = df.dropna(subset = ['Date_Reported'])\n",
    "df.shape\n",
    "raw.shape"
   ]
  },
  {
   "cell_type": "code",
   "execution_count": 78,
   "metadata": {},
   "outputs": [
    {
     "data": {
      "text/plain": [
       "4     1914\n",
       "5     1914\n",
       "6     1914\n",
       "7     1915\n",
       "8     1915\n",
       "9     1915\n",
       "10    1915\n",
       "11    1915\n",
       "12    1915\n",
       "13    1915\n",
       "Name: Year, dtype: object"
      ]
     },
     "execution_count": 78,
     "metadata": {},
     "output_type": "execute_result"
    }
   ],
   "source": [
    "raw['Year'] = raw['Date_Reported'].apply(lambda row: str(row)[-4:])\n",
    "raw['Year'].head(10)"
   ]
  },
  {
   "cell_type": "code",
   "execution_count": 79,
   "metadata": {},
   "outputs": [
    {
     "data": {
      "text/plain": [
       "(1092795, 26)"
      ]
     },
     "execution_count": 79,
     "metadata": {},
     "output_type": "execute_result"
    }
   ],
   "source": [
    "raw['Year'] = raw['Year'].apply(lambda row: int(row))\n",
    "temp = raw[raw.Year >= 2009]\n",
    "data = temp[temp.Year <= 2017]\n",
    "data.shape"
   ]
  },
  {
   "cell_type": "code",
   "execution_count": 80,
   "metadata": {},
   "outputs": [],
   "source": [
    "# Dataframe of zipcode, year, number of crimes\n",
    "counts = data.groupby(['zip_codes', 'Year']).size().reset_index(name='counts')"
   ]
  },
  {
   "cell_type": "markdown",
   "metadata": {},
   "source": [
    "## 77005 -- EDA"
   ]
  },
  {
   "cell_type": "code",
   "execution_count": 81,
   "metadata": {},
   "outputs": [
    {
     "data": {
      "image/png": "[encoded data removed]",
      "text/plain": [
       "<Figure size 432x288 with 1 Axes>"
      ]
     },
     "metadata": {
      "needs_background": "light"
     },
     "output_type": "display_data"
    }
   ],
   "source": [
    "# number of crimes per year for 77005\n",
    "rice_crime = data[data.zip_codes==77005]\n",
    "# histogram\n",
    "rice_crime.Year.hist(bins=25);"
   ]
  },
  {
   "cell_type": "code",
   "execution_count": 82,
   "metadata": {},
   "outputs": [
    {
     "data": {
      "text/plain": [
       "<matplotlib.axes._subplots.AxesSubplot at 0x1a2b62bc18>"
      ]
     },
     "execution_count": 82,
     "metadata": {},
     "output_type": "execute_result"
    },
    {
     "data": {
      "image/png": "[encoded data removed]",
      "text/plain": [
       "<Figure size 432x288 with 1 Axes>"
      ]
     },
     "metadata": {
      "needs_background": "light"
     },
     "output_type": "display_data"
    }
   ],
   "source": [
    "# scatterplot\n",
    "rice_crime1 = counts[counts.zip_codes==77005]\n",
    "rice_crime1.plot.scatter(x='Year', y=\"counts\")"
   ]
  },
  {
   "cell_type": "code",
   "execution_count": 83,
   "metadata": {
    "scrolled": false
   },
   "outputs": [
    {
     "data": {
      "text/plain": [
       "<matplotlib.axes._subplots.AxesSubplot at 0x1a244c7390>"
      ]
     },
     "execution_count": 83,
     "metadata": {},
     "output_type": "execute_result"
    },
    {
     "data": {
      "image/png": "[encoded data removed]",
      "text/plain": [
       "<Figure size 432x288 with 1 Axes>"
      ]
     },
     "metadata": {
      "needs_background": "light"
     },
     "output_type": "display_data"
    }
   ],
   "source": [
    "# bar plot\n",
    "rice_crime1 = counts[counts.zip_codes==77005]\n",
    "rice_crime1.plot(x=\"Year\", y=\"counts\", kind=\"bar\")"
   ]
  },
  {
   "cell_type": "markdown",
   "metadata": {},
   "source": [
    "## 77005 -- Modeling"
   ]
  },
  {
   "cell_type": "code",
   "execution_count": 84,
   "metadata": {},
   "outputs": [],
   "source": [
    "rice_crime_counts = rice_crime.groupby(['Year']).size().reset_index(name='counts')\n",
    "# prep data for regression\n",
    "X = rice_crime_counts[['Year']]\n",
    "y = rice_crime_counts['counts']"
   ]
  },
  {
   "cell_type": "code",
   "execution_count": 85,
   "metadata": {},
   "outputs": [
    {
     "data": {
      "text/plain": [
       "LinearRegression(copy_X=True, fit_intercept=True, n_jobs=None, normalize=False)"
      ]
     },
     "execution_count": 85,
     "metadata": {},
     "output_type": "execute_result"
    }
   ],
   "source": [
    "# fit linear regression\n",
    "regression = LinearRegression(fit_intercept=True)\n",
    "regression.fit(X,y)"
   ]
  },
  {
   "cell_type": "code",
   "execution_count": 86,
   "metadata": {},
   "outputs": [
    {
     "name": "stdout",
     "output_type": "stream",
     "text": [
      "Coefficients: \n",
      " [33.78333333]\n"
     ]
    },
    {
     "data": {
      "text/plain": [
       "[<matplotlib.lines.Line2D at 0x1a245bebe0>]"
      ]
     },
     "execution_count": 86,
     "metadata": {},
     "output_type": "execute_result"
    },
    {
     "data": {
      "image/png": "[encoded data removed]",
      "text/plain": [
       "<Figure size 432x288 with 1 Axes>"
      ]
     },
     "metadata": {
      "needs_background": "light"
     },
     "output_type": "display_data"
    }
   ],
   "source": [
    "# fit X to regression line\n",
    "y_pred = regression.predict(X)\n",
    "# coefficients\n",
    "print('Coefficients: \\n', regression.coef_)\n",
    "# Graph results\n",
    "plt.scatter(x=X, y=y)\n",
    "plt.plot(X, y_pred, color='blue', linewidth=3)"
   ]
  },
  {
   "cell_type": "markdown",
   "metadata": {},
   "source": [
    "## 77005 -- Evaluating the Model"
   ]
  },
  {
   "cell_type": "code",
   "execution_count": 87,
   "metadata": {},
   "outputs": [
    {
     "name": "stdout",
     "output_type": "stream",
     "text": [
      "Mean squared error:  5947.93395061701\n"
     ]
    }
   ],
   "source": [
    "mse = mean_squared_error(y, y_pred)\n",
    "print(\"Mean squared error: \", mse)"
   ]
  },
  {
   "cell_type": "code",
   "execution_count": 88,
   "metadata": {
    "scrolled": true
   },
   "outputs": [
    {
     "name": "stdout",
     "output_type": "stream",
     "text": [
      "Variance score: 0.561254749146722\n"
     ]
    }
   ],
   "source": [
    "variance_score = r2_score(y, y_pred)\n",
    "print(\"Variance score:\", variance_score)"
   ]
  },
  {
   "cell_type": "markdown",
   "metadata": {},
   "source": [
    "## Finding zipcodes with the most and least crime"
   ]
  },
  {
   "cell_type": "code",
   "execution_count": 89,
   "metadata": {
    "scrolled": true
   },
   "outputs": [
    {
     "name": "stdout",
     "output_type": "stream",
     "text": [
      "Zip Code with the Most Crime: 77036.0  Number of Crimes: 38432.0\n",
      "Zip Code with the Least Crime: 77536.0  Number of Crimes: 1.0\n"
     ]
    }
   ],
   "source": [
    "counts1 = counts.groupby(['zip_codes'])\n",
    "counts1.head()\n",
    "counts2 = counts1['zip_codes', 'counts'].apply(pd.DataFrame)\n",
    "dct = {}\n",
    "for b in counts2.iterrows():\n",
    "    if not b[1][0] in dct:\n",
    "        dct[b[1][0]] = b[1][1]\n",
    "    else:\n",
    "        dct[b[1][0]] += b[1][1]\n",
    "\n",
    "maxValue = 0\n",
    "maxKey = 0\n",
    "minValue = 100000\n",
    "minKey = 0\n",
    "for key, value in dct.items():\n",
    "    if value > maxValue:\n",
    "        maxValue =  value\n",
    "        maxKey = key\n",
    "    if value < minValue:\n",
    "        minValue = value\n",
    "        minKey = key\n",
    "print(\"Zip Code with the Most Crime:\", maxKey, \" Number of Crimes:\", maxValue)\n",
    "print(\"Zip Code with the Least Crime:\", minKey, \" Number of Crimes:\", minValue)"
   ]
  },
  {
   "cell_type": "markdown",
   "metadata": {},
   "source": [
    "## 77036 -- EDA"
   ]
  },
  {
   "cell_type": "code",
   "execution_count": 90,
   "metadata": {},
   "outputs": [
    {
     "data": {
      "image/png": "[encoded data removed]",
      "text/plain": [
       "<Figure size 432x288 with 1 Axes>"
      ]
     },
     "metadata": {
      "needs_background": "light"
     },
     "output_type": "display_data"
    }
   ],
   "source": [
    "# number of crimes per year for 77036\n",
    "sketch_crime = data[data.zip_codes==77036]\n",
    "# histogram\n",
    "sketch_crime.Year.hist(bins=25);"
   ]
  },
  {
   "cell_type": "code",
   "execution_count": 91,
   "metadata": {
    "scrolled": true
   },
   "outputs": [
    {
     "data": {
      "text/plain": [
       "<matplotlib.axes._subplots.AxesSubplot at 0x1a24978278>"
      ]
     },
     "execution_count": 91,
     "metadata": {},
     "output_type": "execute_result"
    },
    {
     "data": {
      "image/png": "[encoded data removed]",
      "text/plain": [
       "<Figure size 432x288 with 1 Axes>"
      ]
     },
     "metadata": {
      "needs_background": "light"
     },
     "output_type": "display_data"
    }
   ],
   "source": [
    "# scatterplot\n",
    "sketch_crime1 = counts[counts.zip_codes==77036]\n",
    "sketch_crime1.plot.scatter(x='Year', y=\"counts\")"
   ]
  },
  {
   "cell_type": "markdown",
   "metadata": {},
   "source": [
    "## 77036 -- Modeling"
   ]
  },
  {
   "cell_type": "code",
   "execution_count": 92,
   "metadata": {},
   "outputs": [],
   "source": [
    "sketch_crime_counts = sketch_crime.groupby(['Year']).size().reset_index(name='counts')\n",
    "# prep data for regression\n",
    "X = sketch_crime_counts[['Year']]\n",
    "y = sketch_crime_counts['counts']"
   ]
  },
  {
   "cell_type": "code",
   "execution_count": 93,
   "metadata": {},
   "outputs": [
    {
     "data": {
      "text/plain": [
       "LinearRegression(copy_X=True, fit_intercept=True, n_jobs=None, normalize=False)"
      ]
     },
     "execution_count": 93,
     "metadata": {},
     "output_type": "execute_result"
    }
   ],
   "source": [
    "# fit linear regression\n",
    "regression = LinearRegression(fit_intercept=True)\n",
    "regression.fit(X,y)"
   ]
  },
  {
   "cell_type": "code",
   "execution_count": 94,
   "metadata": {
    "scrolled": true
   },
   "outputs": [
    {
     "name": "stdout",
     "output_type": "stream",
     "text": [
      "Coefficients: \n",
      " [-52.05]\n"
     ]
    },
    {
     "data": {
      "text/plain": [
       "[<matplotlib.lines.Line2D at 0x1a2497fe80>]"
      ]
     },
     "execution_count": 94,
     "metadata": {},
     "output_type": "execute_result"
    },
    {
     "data": {
      "image/png": "[encoded data removed]",
      "text/plain": [
       "<Figure size 432x288 with 1 Axes>"
      ]
     },
     "metadata": {
      "needs_background": "light"
     },
     "output_type": "display_data"
    }
   ],
   "source": [
    "# fit X to regression line\n",
    "y_pred = regression.predict(X)\n",
    "# coefficients\n",
    "print('Coefficients: \\n', regression.coef_)\n",
    "# Graph results\n",
    "plt.scatter(x=X, y=y)\n",
    "plt.plot(X, y_pred, color='blue', linewidth=3)"
   ]
  },
  {
   "cell_type": "markdown",
   "metadata": {},
   "source": [
    "## 77036 -- Evaluating the Model"
   ]
  },
  {
   "cell_type": "code",
   "execution_count": 95,
   "metadata": {},
   "outputs": [
    {
     "name": "stdout",
     "output_type": "stream",
     "text": [
      "Mean squared error:  307929.9339506156\n",
      "Variance score: 0.055404395421620234\n"
     ]
    }
   ],
   "source": [
    "mse = mean_squared_error(y, y_pred)\n",
    "print(\"Mean squared error: \", mse)\n",
    "\n",
    "variance_score = r2_score(y, y_pred)\n",
    "print(\"Variance score:\", variance_score)"
   ]
  },
  {
   "cell_type": "markdown",
   "metadata": {},
   "source": [
    "## Downtown -- EDA"
   ]
  },
  {
   "cell_type": "code",
   "execution_count": 96,
   "metadata": {},
   "outputs": [
    {
     "data": {
      "image/png": "[encoded data removed]",
      "text/plain": [
       "<Figure size 432x288 with 1 Axes>"
      ]
     },
     "metadata": {
      "needs_background": "light"
     },
     "output_type": "display_data"
    }
   ],
   "source": [
    "# number of crimes per year for 77002\n",
    "downtown_crime = data[data.zip_codes==77002]\n",
    "# histogram\n",
    "downtown_crime.Year.hist(bins=25);"
   ]
  },
  {
   "cell_type": "code",
   "execution_count": 97,
   "metadata": {
    "scrolled": true
   },
   "outputs": [
    {
     "data": {
      "text/plain": [
       "<matplotlib.axes._subplots.AxesSubplot at 0x1a2587f5f8>"
      ]
     },
     "execution_count": 97,
     "metadata": {},
     "output_type": "execute_result"
    },
    {
     "data": {
      "image/png": "[encoded data removed]",
      "text/plain": [
       "<Figure size 432x288 with 1 Axes>"
      ]
     },
     "metadata": {
      "needs_background": "light"
     },
     "output_type": "display_data"
    }
   ],
   "source": [
    "# scatterplot\n",
    "downtown_crime1 = counts[counts.zip_codes==77002]\n",
    "downtown_crime1.plot.scatter(x='Year', y=\"counts\")"
   ]
  },
  {
   "cell_type": "markdown",
   "metadata": {},
   "source": [
    "## Downtown -- Modeling"
   ]
  },
  {
   "cell_type": "code",
   "execution_count": 98,
   "metadata": {},
   "outputs": [],
   "source": [
    "downtown_crime_counts = downtown_crime.groupby(['Year']).size().reset_index(name='counts')\n",
    "# prep data for regression\n",
    "X = downtown_crime_counts[['Year']]\n",
    "y = downtown_crime_counts['counts']"
   ]
  },
  {
   "cell_type": "code",
   "execution_count": 99,
   "metadata": {},
   "outputs": [
    {
     "data": {
      "text/plain": [
       "LinearRegression(copy_X=True, fit_intercept=True, n_jobs=None, normalize=False)"
      ]
     },
     "execution_count": 99,
     "metadata": {},
     "output_type": "execute_result"
    }
   ],
   "source": [
    "# fit linear regression\n",
    "regression = LinearRegression(fit_intercept=True)\n",
    "regression.fit(X,y)"
   ]
  },
  {
   "cell_type": "code",
   "execution_count": 100,
   "metadata": {
    "scrolled": true
   },
   "outputs": [
    {
     "name": "stdout",
     "output_type": "stream",
     "text": [
      "Coefficients: \n",
      " [3.91666667]\n"
     ]
    },
    {
     "data": {
      "text/plain": [
       "[<matplotlib.lines.Line2D at 0x1a2582ab38>]"
      ]
     },
     "execution_count": 100,
     "metadata": {},
     "output_type": "execute_result"
    },
    {
     "data": {
      "image/png": "[encoded data removed]",
      "text/plain": [
       "<Figure size 432x288 with 1 Axes>"
      ]
     },
     "metadata": {
      "needs_background": "light"
     },
     "output_type": "display_data"
    }
   ],
   "source": [
    "# fit X to regression line\n",
    "y_pred = regression.predict(X)\n",
    "# coefficients\n",
    "print('Coefficients: \\n', regression.coef_)\n",
    "# Graph results\n",
    "plt.scatter(x=X, y=y)\n",
    "plt.plot(X, y_pred, color='blue', linewidth=3)"
   ]
  },
  {
   "cell_type": "markdown",
   "metadata": {},
   "source": [
    "## Downtown -- Evaluating the Model"
   ]
  },
  {
   "cell_type": "code",
   "execution_count": 101,
   "metadata": {},
   "outputs": [
    {
     "name": "stdout",
     "output_type": "stream",
     "text": [
      "Mean squared error:  57437.06481481476\n",
      "Variance score: 0.001777367108619754\n"
     ]
    }
   ],
   "source": [
    "mse = mean_squared_error(y, y_pred)\n",
    "print(\"Mean squared error: \", mse)\n",
    "\n",
    "variance_score = r2_score(y, y_pred)\n",
    "print(\"Variance score:\", variance_score)"
   ]
  }
 ],
 "metadata": {
  "kernelspec": {
   "display_name": "Python 3",
   "language": "python",
   "name": "python3"
  },
  "language_info": {
   "codemirror_mode": {
    "name": "ipython",
    "version": 3
   },
   "file_extension": ".py",
   "mimetype": "text/x-python",
   "name": "python",
   "nbconvert_exporter": "python",
   "pygments_lexer": "ipython3",
   "version": "3.7.3"
  }
 },
 "nbformat": 4,
 "nbformat_minor": 2
}
