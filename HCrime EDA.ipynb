{
 "cells": [
  {
   "cell_type": "code",
   "execution_count": 2,
   "metadata": {},
   "outputs": [],
   "source": [
    "import numpy as np\n",
    "import pandas as pd\n",
    "import matplotlib.pyplot as plt"
   ]
  },
  {
   "cell_type": "code",
   "execution_count": 9,
   "metadata": {},
   "outputs": [],
   "source": [
    "# reading from a CSV: https://pandas.pydata.org/pandas-docs/stable/reference/api/pandas.read_csv.html\n",
    "# df = pd.read_csv(\"data/foo.csv\")\n",
    "\n",
    "# reading from a CSV without column names\n",
    "# df = pd.read_csv(\"data/foo.csv\", columns=[\"date\", \"company\", \"valuation\"])\n",
    "\n",
    "df = pd.read_csv(\"HPD_Crime_2009_2017_v01.csv\")"
   ]
  },
  {
   "cell_type": "code",
   "execution_count": 10,
   "metadata": {},
   "outputs": [
    {
     "data": {
      "text/plain": [
       "Index(['Location_Desc', 'Police_Beat', 'Street_Type', 'RecordID',\n",
       "       'Date_Reported', 'Offense_Type', 'Block_Range', 'Street_Prefix',\n",
       "       'Street_Name', 'Num_Offenses', 'Srce_YYMM', 'NGC', 'Match_addr', 'X',\n",
       "       'Y', 'GEOID10', 'GEOID00', 'Police_Division', 'CTA_ID', 'CTA_Name',\n",
       "       'Geocoded', 'Location_Code', 'Hour'],\n",
       "      dtype='object')"
      ]
     },
     "execution_count": 10,
     "metadata": {},
     "output_type": "execute_result"
    }
   ],
   "source": [
    "df.columns"
   ]
  },
  {
   "cell_type": "code",
   "execution_count": 11,
   "metadata": {},
   "outputs": [
    {
     "data": {
      "text/plain": [
       "Hour                 int64\n",
       "Geocoded             int64\n",
       "RecordID             int64\n",
       "Num_Offenses         int64\n",
       "GEOID00            float64\n",
       "GEOID10            float64\n",
       "Y                  float64\n",
       "X                  float64\n",
       "NGC                float64\n",
       "Street_Prefix       object\n",
       "Srce_YYMM           object\n",
       "Location_Code       object\n",
       "Match_addr          object\n",
       "Block_Range         object\n",
       "Offense_Type        object\n",
       "Date_Reported       object\n",
       "Street_Type         object\n",
       "Police_Division     object\n",
       "CTA_ID              object\n",
       "CTA_Name            object\n",
       "Police_Beat         object\n",
       "Street_Name         object\n",
       "Location_Desc       object\n",
       "dtype: object"
      ]
     },
     "execution_count": 11,
     "metadata": {},
     "output_type": "execute_result"
    }
   ],
   "source": [
    "df.dtypes.sort_values()"
   ]
  }
 ],
 "metadata": {
  "kernelspec": {
   "display_name": "Python 3",
   "language": "python",
   "name": "python3"
  },
  "language_info": {
   "codemirror_mode": {
    "name": "ipython",
    "version": 3
   },
   "file_extension": ".py",
   "mimetype": "text/x-python",
   "name": "python",
   "nbconvert_exporter": "python",
   "pygments_lexer": "ipython3",
   "version": "3.7.3"
  }
 },
 "nbformat": 4,
 "nbformat_minor": 2
}
