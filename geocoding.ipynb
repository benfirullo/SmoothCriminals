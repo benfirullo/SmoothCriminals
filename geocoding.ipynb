{
 "cells": [
  {
   "cell_type": "code",
   "execution_count": 29,
   "metadata": {},
   "outputs": [],
   "source": [
    "import numpy as np\n",
    "from sklearn.neighbors import KDTree\n",
    "import matplotlib.pyplot as plt\n",
    "import pandas as pd\n",
    "import geopandas as gpd\n",
    "import requests\n",
    "from shapely.geometry import Point\n",
    "from shapely.geometry.polygon import Polygon"
   ]
  },
  {
   "cell_type": "code",
   "execution_count": 30,
   "metadata": {},
   "outputs": [],
   "source": [
    "data = pd.read_csv(\"C:/Users/bglot/Desktop/datasci/HPD_Crime_2009_2017_v01.csv\")\n",
    "longt = np.array(data['X'])\n",
    "latt = np.array(data['Y'])"
   ]
  },
  {
   "cell_type": "code",
   "execution_count": 31,
   "metadata": {},
   "outputs": [],
   "source": [
    "longt.reshape(1094207,1)\n",
    "latt.reshape(1094207,1)\n",
    "coord = np.column_stack((longt, latt))"
   ]
  },
  {
   "cell_type": "code",
   "execution_count": 32,
   "metadata": {},
   "outputs": [],
   "source": [
    "gdf_locations = gpd.read_file(\"C:/Users/bglot/Desktop/datasci/COH_ZIPCODE/COH_ZIPCODE.shp\")"
   ]
  },
  {
   "cell_type": "code",
   "execution_count": 35,
   "metadata": {},
   "outputs": [],
   "source": [
    "data['zip_codes'] = None\n",
    "for i in range(len(coord)):\n",
    "    coord_shp = Point(coord[i])\n",
    "    filter = gdf_locations['geometry'].contains(coord_shp)\n",
    "    a = list(gdf_locations.loc[filter==True, 'ZIP_CODE'])\n",
    "    for val in a:\n",
    "        data.at[i, 'zip_codes'] = a[0]"
   ]
  },
  {
   "cell_type": "code",
   "execution_count": 36,
   "metadata": {},
   "outputs": [],
   "source": [
    "data.to_csv('C:/Users/bglot/Desktop/datasci/withzip1.csv')"
   ]
  }
 ],
 "metadata": {
  "kernelspec": {
   "display_name": "Python 3",
   "language": "python",
   "name": "python3"
  },
  "language_info": {
   "codemirror_mode": {
    "name": "ipython",
    "version": 3
   },
   "file_extension": ".py",
   "mimetype": "text/x-python",
   "name": "python",
   "nbconvert_exporter": "python",
   "pygments_lexer": "ipython3",
   "version": "3.7.3"
  }
 },
 "nbformat": 4,
 "nbformat_minor": 2
}
