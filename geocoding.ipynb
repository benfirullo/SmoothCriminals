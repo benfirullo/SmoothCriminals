{
 "cells": [
  {
   "cell_type": "code",
   "execution_count": 1,
   "metadata": {},
   "outputs": [],
   "source": [
    "import numpy as np\n",
    "from sklearn.neighbors import KDTree\n",
    "import matplotlib.pyplot as plt\n",
    "import pandas as pd\n",
    "import geopandas as gpd\n",
    "import requests\n",
    "from shapely.geometry import Point\n",
    "from shapely.geometry.polygon import Polygon"
   ]
  },
  {
   "cell_type": "code",
   "execution_count": 3,
   "metadata": {},
   "outputs": [],
   "source": [
    "data = pd.read_csv(\"C:/Users/bglot/Desktop/datasci/HPD_Crime_2009_2017_v01.csv\")\n",
    "longt = np.array(data['X'])\n",
    "latt = np.array(data['Y'])"
   ]
  },
  {
   "cell_type": "code",
   "execution_count": 4,
   "metadata": {},
   "outputs": [],
   "source": [
    "longt.reshape(1094207,1)\n",
    "latt.reshape(1094207,1)\n",
    "coord = np.column_stack((longt, latt))"
   ]
  },
  {
   "cell_type": "code",
   "execution_count": 5,
   "metadata": {},
   "outputs": [],
   "source": [
    "gdf_locations = gpd.read_file(\"C:/Users/bglot/Desktop/datasci/COH_ZIPCODE/COH_ZIPCODE.shp\")"
   ]
  },
  {
   "cell_type": "code",
   "execution_count": 6,
   "metadata": {},
   "outputs": [],
   "source": [
    "zipcodes = []\n",
    "for i in range(len(coord)):\n",
    "    coord_shp = Point(coord[i])\n",
    "    filter = gdf_locations['geometry'].contains(coord_shp)\n",
    "    a = list(gdf_locations.loc[filter==True, 'ZIP_CODE'])\n",
    "    for val in a:\n",
    "        zipcodes.append(val)"
   ]
  },
  {
   "cell_type": "code",
   "execution_count": 24,
   "metadata": {},
   "outputs": [
    {
     "name": "stdout",
     "output_type": "stream",
     "text": [
      "1063252\n",
      "1063252\n"
     ]
    }
   ],
   "source": [
    "data = data[data.X != 0]\n",
    "data = data[data.X.notnull()]\n",
    "data = data[data.Y != 0]\n",
    "data = data[data.Y.notnull()]\n",
    "data = data[0:1063253]\n",
    "data.insert(23,\"zip_code\",zipcodes)\n",
    "data.to_csv('C:/Users/bglot/Desktop/datasci/withzip.csv')"
   ]
  }
 ],
 "metadata": {
  "kernelspec": {
   "display_name": "Python 3",
   "language": "python",
   "name": "python3"
  },
  "language_info": {
   "codemirror_mode": {
    "name": "ipython",
    "version": 3
   },
   "file_extension": ".py",
   "mimetype": "text/x-python",
   "name": "python",
   "nbconvert_exporter": "python",
   "pygments_lexer": "ipython3",
   "version": "3.7.3"
  }
 },
 "nbformat": 4,
 "nbformat_minor": 2
}
