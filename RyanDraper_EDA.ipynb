{
 "cells": [
  {
   "cell_type": "code",
   "execution_count": 9,
   "metadata": {},
   "outputs": [],
   "source": [
    "import numpy as np\n",
    "import pandas as pd\n",
    "import matplotlib.pyplot as plt"
   ]
  },
  {
   "cell_type": "code",
   "execution_count": 10,
   "metadata": {},
   "outputs": [],
   "source": [
    "# reading from a CSV: https://pandas.pydata.org/pandas-docs/stable/reference/api/pandas.read_csv.html\n",
    "# df = pd.read_csv(\"data/foo.csv\")\n",
    "\n",
    "# reading from a CSV without column names\n",
    "# df = pd.read_csv(\"data/foo.csv\", columns=[\"date\", \"company\", \"valuation\"])\n",
    "\n",
    "df = pd.read_csv(\"HPD_Crime_2009_2017_v01.csv\")"
   ]
  },
  {
   "cell_type": "code",
   "execution_count": 11,
   "metadata": {},
   "outputs": [
    {
     "data": {
      "text/plain": [
       "Index(['Location_Desc', 'Police_Beat', 'Street_Type', 'RecordID',\n",
       "       'Date_Reported', 'Offense_Type', 'Block_Range', 'Street_Prefix',\n",
       "       'Street_Name', 'Num_Offenses', 'Srce_YYMM', 'NGC', 'Match_addr', 'X',\n",
       "       'Y', 'GEOID10', 'GEOID00', 'Police_Division', 'CTA_ID', 'CTA_Name',\n",
       "       'Geocoded', 'Location_Code', 'Hour'],\n",
       "      dtype='object')"
      ]
     },
     "execution_count": 11,
     "metadata": {},
     "output_type": "execute_result"
    }
   ],
   "source": [
    "df.columns"
   ]
  },
  {
   "cell_type": "code",
   "execution_count": 24,
   "metadata": {},
   "outputs": [
    {
     "data": {
      "text/plain": [
       "Theft                 600981\n",
       "Burglary              200450\n",
       "Auto Theft            109185\n",
       "Aggravated Assault     90075\n",
       "Robbery                83792\n",
       "Rape                    7622\n",
       "Murder                  2088\n",
       "1                         14\n",
       "Name: Offense_Type, dtype: int64"
      ]
     },
     "execution_count": 24,
     "metadata": {},
     "output_type": "execute_result"
    }
   ],
   "source": [
    "df.Offense_Type.value_counts()"
   ]
  },
  {
   "cell_type": "code",
   "execution_count": 28,
   "metadata": {
    "scrolled": true
   },
   "outputs": [
    {
     "data": {
      "text/plain": [
       "<matplotlib.axes._subplots.AxesSubplot at 0x11350e278>"
      ]
     },
     "execution_count": 28,
     "metadata": {},
     "output_type": "execute_result"
    },
    {
     "data": {
      "image/png": "[encoded data removed]",
      "text/plain": [
       "<Figure size 432x288 with 1 Axes>"
      ]
     },
     "metadata": {
      "needs_background": "light"
     },
     "output_type": "display_data"
    }
   ],
   "source": [
    "df.Offense_Type.value_counts().plot.bar()"
   ]
  },
  {
   "cell_type": "code",
   "execution_count": 29,
   "metadata": {},
   "outputs": [
    {
     "data": {
      "text/plain": [
       "18    62672\n",
       "12    62073\n",
       "17    60881\n",
       "15    59572\n",
       "16    58065\n",
       "19    57780\n",
       "14    56324\n",
       "20    56215\n",
       "22    53767\n",
       "13    53359\n",
       "21    52095\n",
       "10    51442\n",
       "11    50920\n",
       "0     49159\n",
       "8     48347\n",
       "9     48131\n",
       "23    44346\n",
       "7     39485\n",
       "1     26879\n",
       "6     25899\n",
       "2     24968\n",
       "3     19377\n",
       "5     16792\n",
       "4     15655\n",
       "24        4\n",
       "Name: Hour, dtype: int64"
      ]
     },
     "execution_count": 29,
     "metadata": {},
     "output_type": "execute_result"
    }
   ],
   "source": [
    "df.Hour.value_counts()"
   ]
  },
  {
   "cell_type": "code",
   "execution_count": 30,
   "metadata": {
    "scrolled": true
   },
   "outputs": [
    {
     "data": {
      "text/plain": [
       "<matplotlib.axes._subplots.AxesSubplot at 0x11d55de48>"
      ]
     },
     "execution_count": 30,
     "metadata": {},
     "output_type": "execute_result"
    },
    {
     "data": {
      "image/png": "[encoded data removed]",
      "text/plain": [
       "<Figure size 432x288 with 1 Axes>"
      ]
     },
     "metadata": {
      "needs_background": "light"
     },
     "output_type": "display_data"
    }
   ],
   "source": [
    "df.Hour.value_counts().plot.bar()"
   ]
  },
  {
   "cell_type": "code",
   "execution_count": 32,
   "metadata": {},
   "outputs": [
    {
     "data": {
      "text/plain": [
       "<matplotlib.axes._subplots.AxesSubplot at 0x1202efe80>"
      ]
     },
     "execution_count": 32,
     "metadata": {},
     "output_type": "execute_result"
    },
    {
     "data": {
      "image/png": "[encoded data removed]",
      "text/plain": [
       "<Figure size 432x288 with 1 Axes>"
      ]
     },
     "metadata": {
      "needs_background": "light"
     },
     "output_type": "display_data"
    }
   ],
   "source": [
    "df.Hour.hist(bins=24)"
   ]
  },
  {
   "cell_type": "code",
   "execution_count": 33,
   "metadata": {},
   "outputs": [
    {
     "data": {
      "text/plain": [
       "08/01/2009    512\n",
       "06/12/2009    504\n",
       "07/13/2009    496\n",
       "10/01/2010    490\n",
       "12/20/2013    481\n",
       "09/04/2009    476\n",
       "07/01/2010    476\n",
       "12/11/2009    475\n",
       "07/24/2009    475\n",
       "05/07/2010    474\n",
       "12/23/2009    473\n",
       "09/11/2009    473\n",
       "11/20/2009    471\n",
       "06/11/2010    470\n",
       "12/21/2009    469\n",
       "10/01/2009    468\n",
       "06/19/2009    467\n",
       "08/21/2009    467\n",
       "10/23/2009    464\n",
       "07/10/2009    463\n",
       "12/18/2009    462\n",
       "12/04/2013    461\n",
       "06/01/2010    461\n",
       "05/14/2010    461\n",
       "12/07/2009    460\n",
       "11/13/2009    459\n",
       "08/07/2009    458\n",
       "01/15/2010    458\n",
       "06/28/2013    457\n",
       "12/03/2010    457\n",
       "             ... \n",
       "07/04/2005      1\n",
       "05/08/2008      1\n",
       "01/28/2001      1\n",
       "09/09/2002      1\n",
       "06/21/2002      1\n",
       "12/19/2004      1\n",
       "08/19/2006      1\n",
       "02/03/2001      1\n",
       "12/15/1987      1\n",
       "05/27/2005      1\n",
       "09/28/2008      1\n",
       "10/13/2008      1\n",
       "08/13/2007      1\n",
       "04/26/2007      1\n",
       "03/29/2000      1\n",
       "10/27/2001      1\n",
       "06/09/2000      1\n",
       "11/06/2005      1\n",
       "06/29/2008      1\n",
       "08/31/2007      1\n",
       "01/17/2005      1\n",
       "05/10/2008      1\n",
       "11/29/2000      1\n",
       "10/15/2005      1\n",
       "01/31/1999      1\n",
       "07/20/2007      1\n",
       "12/22/2007      1\n",
       "10/14/2003      1\n",
       "02/17/1992      1\n",
       "04/02/2001      1\n",
       "Name: Date_Reported, Length: 4220, dtype: int64"
      ]
     },
     "execution_count": 33,
     "metadata": {},
     "output_type": "execute_result"
    }
   ],
   "source": [
    "df.Date_Reported.value_counts()"
   ]
  },
  {
   "cell_type": "code",
   "execution_count": null,
   "metadata": {},
   "outputs": [],
   "source": []
  }
 ],
 "metadata": {
  "kernelspec": {
   "display_name": "Python 3",
   "language": "python",
   "name": "python3"
  },
  "language_info": {
   "codemirror_mode": {
    "name": "ipython",
    "version": 3
   },
   "file_extension": ".py",
   "mimetype": "text/x-python",
   "name": "python",
   "nbconvert_exporter": "python",
   "pygments_lexer": "ipython3",
   "version": "3.7.3"
  }
 },
 "nbformat": 4,
 "nbformat_minor": 2
}
