{
 "cells": [
  {
   "cell_type": "code",
   "execution_count": 1,
   "metadata": {},
   "outputs": [],
   "source": [
    "import pandas as pd\n",
    "import matplotlib.pyplot as plt"
   ]
  },
  {
   "cell_type": "code",
   "execution_count": 2,
   "metadata": {},
   "outputs": [
    {
     "data": {
      "text/plain": [
       "Theft                 600981\n",
       "Burglary              200450\n",
       "Auto Theft            109185\n",
       "Aggravated Assault     90075\n",
       "Robbery                83792\n",
       "Rape                    7622\n",
       "Murder                  2088\n",
       "1                         14\n",
       "Name: Offense_Type, dtype: int64"
      ]
     },
     "execution_count": 2,
     "metadata": {},
     "output_type": "execute_result"
    }
   ],
   "source": [
    "crime = pd.read_csv(\"HPD_Crime_2009_2017_v01.csv\")\n",
    "crime[\"Offense_Type\"].value_counts()"
   ]
  },
  {
   "cell_type": "code",
   "execution_count": 10,
   "metadata": {},
   "outputs": [
    {
     "data": {
      "text/plain": [
       "RESIDENCE/HOUSE                               141026\n",
       "APARTMENT                                     125740\n",
       "APARTMENT PARKING LOT                         122372\n",
       "ROAD/STREET/SIDEWALK                           88333\n",
       "DRIVEWAY                                       59311\n",
       "OTHER PARKING LOT                              48647\n",
       "DEPARTMENT/DISCOUNT STORE                      42158\n",
       "RESTAURANT/CAFETERIA PARKING LOT               34513\n",
       "OTHER/UNKNOWN                                  26737\n",
       "COMMERCIAL PARKING LOT/GARAGE                  26287\n",
       "GROCERY/SUPERMARKET                            22880\n",
       "STRIP BUSINESS CENTER PARKING LOT              19990\n",
       "SERVICE/GAS STATION                            17981\n",
       "RESTAURANT/CAFETERIA                           16607\n",
       "MISC. BUSINESS (NON-SPECIFIC)                  16264\n",
       "HOTEL/MOTEL PARKING LOT                        14639\n",
       "CONVENIENCE STORE                              14413\n",
       "GROCERY/SUPERMARKET PARKING LOT                12877\n",
       "BAR/NIGHT CLUB PARKING LOT                     11067\n",
       "BAR/NIGHT CLUB                                  9841\n",
       "HOTEL/MOTEL/ETC.                                9368\n",
       "CONVENIENCE STORE PARKING LOT                   9348\n",
       "COMMERCIAL BUILDING                             8431\n",
       "SPECIALTY STORE (NON-SPECIFIC)                  8355\n",
       "MALL PARKING LOT                                8183\n",
       "GARAGE/CARPORT                                  7373\n",
       "PARKS & RECREATION, ZOO, SWIM POOL              6643\n",
       "OFFICE BUILDING                                 6003\n",
       "DRUG STORE/MEDICAL SUPPLY                       5286\n",
       "CLOTHING STORE                                  5235\n",
       "                                               ...  \n",
       "LIGHT RAIL PLATFORM                              205\n",
       "FIRE STATION                                     205\n",
       "HIGH RISE                                        197\n",
       "VIDEO RENTAL & SALES                             171\n",
       "LIGHT RAIL VEHICLE                               170\n",
       "BOOK, RECORD, STATIONARY, OFFICE SUP.            169\n",
       "SAVINGS AND LOAN INSTITUTIONS                    163\n",
       "VACANT RESTAURANT                                159\n",
       "JAIL/PRISON                                      138\n",
       "LAKE/WATERWAY/BAYOU                              122\n",
       "VACANT INDUSTRIAL/MANUFACTURING/INDUSTRIAL       109\n",
       "RAILROAD TRACK/RIGHT OF WAY                       95\n",
       "CREDIT UNION                                      94\n",
       "VACANT CHURCH/SYNAGOGUE/TEMPLE                    89\n",
       "VACANT HOTEL/MOTEL/ETC.                           84\n",
       "TRAIN TERMINAL                                    82\n",
       "TOLLWAY                                           70\n",
       "VACANT SCHOOL/COLLEGE                             67\n",
       "VACANT GOVERNMENT/PUBLIC BUILDING                 49\n",
       "VACANT HOSPITAL                                   32\n",
       "PACKAGE FACILITY (FEDEX,UPS,DHL)                  25\n",
       "MARINE VEH. SALES, BOATS, SAILBOATS               19\n",
       "ADULT NOVELTY STORE                               15\n",
       "ILLICIT MASSAGE PARLOR OR SPA                     12\n",
       "CONTRA-FLOW/HOV                                    6\n",
       "ADULT THEATER/ARCADE                               5\n",
       "VACANT BANK                                        5\n",
       "CANTINA                                            4\n",
       "MODELING STUDIO                                    2\n",
       "VACANT JAIL/PRISON                                 1\n",
       "Name: Location_Desc, Length: 132, dtype: int64"
      ]
     },
     "execution_count": 10,
     "metadata": {},
     "output_type": "execute_result"
    }
   ],
   "source": [
    "crime[\"Location_Desc\"].value_counts()"
   ]
  },
  {
   "cell_type": "code",
   "execution_count": 11,
   "metadata": {},
   "outputs": [
    {
     "data": {
      "text/plain": [
       "Westside Division              145699\n",
       "North Division                 128402\n",
       "Central Division               125581\n",
       "Northeast Division             107227\n",
       "Southeast Division              89481\n",
       "Midwest Division                80993\n",
       "Northwest Division              78772\n",
       "Southwest Division              77761\n",
       "Clear Lake Division             59088\n",
       "South Central Division          56811\n",
       "South Gessner Division          54144\n",
       "Eastside Division               27581\n",
       "Kingwood Division               11752\n",
       "Airport-IAH Division             4884\n",
       "Special Operations Division      3376\n",
       "Airport-Hobby Division            207\n",
       "Name: Police_Division, dtype: int64"
      ]
     },
     "execution_count": 11,
     "metadata": {},
     "output_type": "execute_result"
    }
   ],
   "source": [
    "crime[\"Police_Division\"].value_counts()"
   ]
  },
  {
   "cell_type": "code",
   "execution_count": 12,
   "metadata": {},
   "outputs": [
    {
     "data": {
      "text/plain": [
       "1     1080606\n",
       "2       11413\n",
       "3        1758\n",
       "4         254\n",
       "5          81\n",
       "6          47\n",
       "7          16\n",
       "8          10\n",
       "9           5\n",
       "13          4\n",
       "10          3\n",
       "16          3\n",
       "12          2\n",
       "17          2\n",
       "29          1\n",
       "11          1\n",
       "33          1\n",
       "Name: Num_Offenses, dtype: int64"
      ]
     },
     "execution_count": 12,
     "metadata": {},
     "output_type": "execute_result"
    }
   ],
   "source": [
    "crime[\"Num_Offenses\"].value_counts()"
   ]
  },
  {
   "cell_type": "code",
   "execution_count": 13,
   "metadata": {},
   "outputs": [
    {
     "data": {
      "text/plain": [
       "WESTHEIMER                          29602\n",
       "GULF                                15444\n",
       "GESSNER                             15433\n",
       "NORTH                               13584\n",
       "RICHMOND                            13524\n",
       "KATY                                10958\n",
       "SOUTHWEST                           10816\n",
       "MAIN                                10043\n",
       "BISSONNET                           10036\n",
       "NORTHWEST                            9730\n",
       "BELLAIRE                             9415\n",
       "BELLFORT                             8424\n",
       "FM 1960                              8111\n",
       "BEECHNUT                             7807\n",
       "GREENS                               7723\n",
       "FONDREN                              7672\n",
       "POST OAK                             7301\n",
       "TIDWELL                              7001\n",
       "LITTLE YORK                          6884\n",
       "BROADWAY                             6754\n",
       "WEST SAM HOUSTON                     6364\n",
       "EAST                                 6291\n",
       "SHEPHERD                             6065\n",
       "AIRLINE                              5622\n",
       "KIRBY                                5280\n",
       "SAM HOUSTON                          5269\n",
       "HILLCROFT                            4911\n",
       "FANNIN                               4858\n",
       "LOOP                                 4677\n",
       "WILCREST                             4644\n",
       "                                    ...  \n",
       "AUSTIN TRLR A                           1\n",
       "GATLINBURG DR                           1\n",
       "PINEMOOR                                1\n",
       "ROLLING MILL DRIVE                      1\n",
       "WHITE DIAMOND LANE                      1\n",
       "WOODWAY SUITE J                         1\n",
       "STONEWALL COURT                         1\n",
       "CHILTON RD                              1\n",
       "THRUSH DRIVE                            1\n",
       "LAKEVILLE DRIVE                         1\n",
       "N IH 45                                 1\n",
       "RUSH HOLLOW                             1\n",
       "SAVOY DR                                1\n",
       "SABO RD APT 1811                        1\n",
       "E. SABINE                               1\n",
       "MCGOWAN                                 1\n",
       "GROVE WEST BLVD 307                     1\n",
       "GLADE ESTATES,KINGWOOD                  1\n",
       "WILLOWVIEW LN                           1\n",
       "ALICE ST APT                            1\n",
       "ARBOR VILLA                             1\n",
       "SORELLA PVT CT / CITY CENTRE PVT        1\n",
       "ASH CREEK DR                            1\n",
       "WOODS BRIDGE WAY                        1\n",
       "HERMANN DRIVE APT                       1\n",
       "STEEL ST                                1\n",
       "P.O. 924234                             1\n",
       "COLONIAL MAPLE                          1\n",
       "GARDEN ESTATES RD                       1\n",
       "WATER IRIS                              1\n",
       "Name: Street_Name, Length: 24816, dtype: int64"
      ]
     },
     "execution_count": 13,
     "metadata": {},
     "output_type": "execute_result"
    }
   ],
   "source": [
    "crime[\"Street_Name\"].value_counts()"
   ]
  },
  {
   "cell_type": "code",
   "execution_count": 23,
   "metadata": {},
   "outputs": [
    {
     "data": {
      "text/plain": [
       "<matplotlib.axes._subplots.AxesSubplot at 0x27a94932d68>"
      ]
     },
     "execution_count": 23,
     "metadata": {},
     "output_type": "execute_result"
    },
    {
     "data": {
      "image/png": "[encoded data removed]",
      "text/plain": [
       "<Figure size 432x288 with 1 Axes>"
      ]
     },
     "metadata": {
      "needs_background": "light"
     },
     "output_type": "display_data"
    }
   ],
   "source": [
    "crime[\"Hour\"].hist(bins = 50)"
   ]
  },
  {
   "cell_type": "code",
   "execution_count": 5,
   "metadata": {},
   "outputs": [
    {
     "data": {
      "text/plain": [
       "19G10    23473\n",
       "12D10    23128\n",
       "1A20     22591\n",
       "6B60     22027\n",
       "13D20    20751\n",
       "3B10     20083\n",
       "18F20    19140\n",
       "17E10    19100\n",
       "5F30     18068\n",
       "18F30    17933\n",
       "18F40    17841\n",
       "15E40    17813\n",
       "1A30     17800\n",
       "14D20    17373\n",
       "1A10     16926\n",
       "20G30    16911\n",
       "20G50    16891\n",
       "17E40    16791\n",
       "2A50     16345\n",
       "1A50     16129\n",
       "6B10     15784\n",
       "18F50    15678\n",
       "5F40     15174\n",
       "7C20     15045\n",
       "9C40     14663\n",
       "6B30     14157\n",
       "3B50     13894\n",
       "2A30     13887\n",
       "20G10    13758\n",
       "19G40    13356\n",
       "         ...  \n",
       "11H50     2951\n",
       "24C10     2809\n",
       "24C50     2681\n",
       "24C30     2637\n",
       "24C20     2611\n",
       "1A40      2532\n",
       "9C10      2483\n",
       "12D50     2398\n",
       "11H40     2274\n",
       "18F10     2251\n",
       "21I50     2106\n",
       "21I10     1272\n",
       "13D30     1131\n",
       "24C40     1130\n",
       "23J50     1011\n",
       "24C60      746\n",
       "21I30      587\n",
       "21I60      430\n",
       "21I20      316\n",
       "21I70      171\n",
       "21I40      108\n",
       "HCSO        68\n",
       "OOJ         41\n",
       "23J40       28\n",
       "23J30       13\n",
       "UH3P         6\n",
       "23J20        3\n",
       "23J10        2\n",
       "3B20         1\n",
       "7C60         1\n",
       "Name: Police_Beat, Length: 126, dtype: int64"
      ]
     },
     "execution_count": 5,
     "metadata": {},
     "output_type": "execute_result"
    }
   ],
   "source": [
    "crime[\"Police_Beat\"].value_counts()"
   ]
  },
  {
   "cell_type": "code",
   "execution_count": 8,
   "metadata": {},
   "outputs": [
    {
     "data": {
      "text/plain": [
       "Num_Offenses  Police_Division            \n",
       "1             Airport-Hobby Division            196\n",
       "              Airport-IAH Division             4841\n",
       "              Central Division               124603\n",
       "              Clear Lake Division             58447\n",
       "              Eastside Division               27137\n",
       "              Kingwood Division               11646\n",
       "              Midwest Division                80354\n",
       "              North Division                 126538\n",
       "              Northeast Division             105247\n",
       "              Northwest Division              77996\n",
       "              South Central Division          56217\n",
       "              South Gessner Division          53364\n",
       "              Southeast Division              87854\n",
       "              Southwest Division              76966\n",
       "              Special Operations Division      3325\n",
       "              Westside Division              144067\n",
       "2             Airport-Hobby Division              9\n",
       "              Airport-IAH Division               30\n",
       "              Central Division                  852\n",
       "              Clear Lake Division               532\n",
       "              Eastside Division                 367\n",
       "              Kingwood Division                  85\n",
       "              Midwest Division                  552\n",
       "              North Division                   1557\n",
       "              Northeast Division               1666\n",
       "              Northwest Division                668\n",
       "              South Central Division            509\n",
       "              South Gessner Division            649\n",
       "              Southeast Division               1323\n",
       "              Southwest Division                664\n",
       "                                              ...  \n",
       "7             South Gessner Division              1\n",
       "              Southeast Division                  3\n",
       "              Southwest Division                  2\n",
       "              Westside Division                   1\n",
       "8             North Division                      1\n",
       "              Northeast Division                  2\n",
       "              Northwest Division                  1\n",
       "              South Central Division              1\n",
       "              Southeast Division                  2\n",
       "              Southwest Division                  2\n",
       "9             Airport-IAH Division                1\n",
       "              Eastside Division                   1\n",
       "              Northwest Division                  1\n",
       "              Southeast Division                  2\n",
       "10            Central Division                    1\n",
       "              Westside Division                   1\n",
       "11            Clear Lake Division                 1\n",
       "12            Airport-IAH Division                1\n",
       "              Northeast Division                  1\n",
       "13            Northeast Division                  1\n",
       "              Northwest Division                  1\n",
       "              Southwest Division                  1\n",
       "              Westside Division                   1\n",
       "16            Airport-IAH Division                1\n",
       "              Clear Lake Division                 1\n",
       "              Southwest Division                  1\n",
       "17            Northwest Division                  1\n",
       "              Westside Division                   1\n",
       "29            Airport-IAH Division                1\n",
       "33            North Division                      1\n",
       "Length: 123, dtype: int64"
      ]
     },
     "execution_count": 8,
     "metadata": {},
     "output_type": "execute_result"
    }
   ],
   "source": [
    "crime.groupby(['Num_Offenses', 'Police_Division']).size()"
   ]
  },
  {
   "cell_type": "code",
   "execution_count": 16,
   "metadata": {},
   "outputs": [
    {
     "data": {
      "text/plain": [
       "<matplotlib.axes._subplots.AxesSubplot at 0x1ba4a7fe5f8>"
      ]
     },
     "execution_count": 16,
     "metadata": {},
     "output_type": "execute_result"
    },
    {
     "data": {
      "image/png": "[encoded data removed]",
      "text/plain": [
       "<Figure size 432x288 with 1 Axes>"
      ]
     },
     "metadata": {
      "needs_background": "light"
     },
     "output_type": "display_data"
    }
   ],
   "source": [
    "division_counts = crime.groupby(\"Police_Division\").count()\n",
    "division_counts.plot.bar(y=\"RecordID\")"
   ]
  },
  {
   "cell_type": "code",
   "execution_count": null,
   "metadata": {},
   "outputs": [],
   "source": []
  }
 ],
 "metadata": {
  "kernelspec": {
   "display_name": "Python 3",
   "language": "python",
   "name": "python3"
  },
  "language_info": {
   "codemirror_mode": {
    "name": "ipython",
    "version": 3
   },
   "file_extension": ".py",
   "mimetype": "text/x-python",
   "name": "python",
   "nbconvert_exporter": "python",
   "pygments_lexer": "ipython3",
   "version": "3.7.3"
  }
 },
 "nbformat": 4,
 "nbformat_minor": 2
}
